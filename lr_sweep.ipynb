{
 "cells": [
  {
   "cell_type": "markdown",
   "metadata": {},
   "source": [
    "# LR Sweep"
   ]
  },
  {
   "cell_type": "markdown",
   "metadata": {},
   "source": [
    "Currently implemented for CIFAR-100 training.\n",
    "\n",
    "There's always so much optimizer state that breaks when LR sweeping, easier to do in a separate script."
   ]
  },
  {
   "cell_type": "code",
   "execution_count": 1,
   "metadata": {},
   "outputs": [],
   "source": [
    "import numpy as np\n",
    "import torch as t\n",
    "from torch.utils.data import DataLoader\n",
    "import matplotlib.pyplot as plt\n",
    "from tqdm import tqdm\n",
    "\n",
    "from datasets import DatasetDict, load_dataset\n",
    "from nanovit import ViT, ViTConfig, build_preprocessor\n",
    "\n",
    "device = \"cuda\" if t.cuda.is_available() else \"cpu\""
   ]
  },
  {
   "cell_type": "markdown",
   "metadata": {},
   "source": [
    "## CIFAR-100 Setup"
   ]
  },
  {
   "cell_type": "markdown",
   "metadata": {},
   "source": [
    "Equivalent config (2.7M params)"
   ]
  },
  {
   "cell_type": "code",
   "execution_count": 2,
   "metadata": {},
   "outputs": [],
   "source": [
    "vit_cfg = ViTConfig(\n",
    "    n_layers=6,\n",
    "    d_model=192,\n",
    "    d_proj=100,\n",
    "    image_res=(32, 32),\n",
    "    patch_size=4,\n",
    "    n_heads=8,\n",
    "    dropout=0.1,\n",
    "    norm_data=(\n",
    "        (0.48145466, 0.4578275, 0.40821073),\n",
    "        (0.26862954, 0.26130258, 0.27577711),\n",
    "    ),\n",
    "    mlp_mult=4,\n",
    ")\n",
    "vit = ViT(vit_cfg).to(device)\n",
    "vit.init_weights_()\n",
    "\n",
    "preproc = build_preprocessor(vit_cfg)"
   ]
  },
  {
   "cell_type": "markdown",
   "metadata": {},
   "source": [
    "Not sure if I add xfms, but I don't think it should make a huge difference."
   ]
  },
  {
   "cell_type": "code",
   "execution_count": null,
   "metadata": {},
   "outputs": [],
   "source": [
    "dd: DatasetDict = load_dataset(\"uoft-cs/cifar100\")  # type: ignore\n",
    "\n",
    "def collate_fn(batch: list[dict]):\n",
    "    pixel_values = t.stack([preproc(x[\"img\"]) for x in batch])\n",
    "    labels = t.tensor([x[\"fine_label\"] for x in batch])\n",
    "    return pixel_values, labels\n",
    "\n",
    "dl = DataLoader(dd[\"train\"], batch_size=256, collate_fn=collate_fn) # type: ignore\n"
   ]
  },
  {
   "cell_type": "markdown",
   "metadata": {},
   "source": [
    "## Impl"
   ]
  },
  {
   "cell_type": "code",
   "execution_count": 4,
   "metadata": {},
   "outputs": [
    {
     "name": "stderr",
     "output_type": "stream",
     "text": [
      "                                                \r"
     ]
    },
    {
     "data": {
      "image/png": "[encoded data removed]",
      "text/plain": [
       "<Figure size 640x480 with 1 Axes>"
      ]
     },
     "metadata": {},
     "output_type": "display_data"
    }
   ],
   "source": [
    "def _plot_losses(lrs, losses):\n",
    "    fig, ax = plt.subplots()\n",
    "    ax.plot(lrs, losses)\n",
    "    ax.set_xscale(\"log\")\n",
    "    ax.set_xlabel(\"LR\")\n",
    "    ax.set_ylabel(\"Loss\")\n",
    "    plt.show()\n",
    "\n",
    "\n",
    "def smooth_losses(losses, window_size=5):\n",
    "    kernel = np.ones(window_size) / window_size\n",
    "    return np.convolve(losses, kernel, mode=\"valid\")\n",
    "\n",
    "\n",
    "def lr_sweep(\n",
    "    model,\n",
    "    opt_cls,\n",
    "    dl,\n",
    "    step_func,\n",
    "    start_lr: float = 1e-7,\n",
    "    end_lr: float = 1.0,\n",
    "    steps: int = 500,\n",
    "):\n",
    "    \"\"\"\n",
    "    step_func should take a model and a batch and return a loss and any other metrics\n",
    "    \"\"\"\n",
    "    opt = opt_cls(model.parameters(), lr=start_lr)\n",
    "    lrs = t.logspace(np.log10(start_lr), np.log10(end_lr), steps)\n",
    "    assert len(dl) > steps\n",
    "\n",
    "    best_loss = float(\"inf\")\n",
    "    losses = []\n",
    "    for lr, batch in zip(tqdm(lrs, leave=False), dl):\n",
    "        loss, *_ = step_func(model, batch)\n",
    "\n",
    "        opt.param_groups[0][\"lr\"] = lr\n",
    "        opt.zero_grad()\n",
    "        loss.backward()\n",
    "        opt.step()\n",
    "        losses.append(loss.item())\n",
    "        if t.isnan(loss) or loss > best_loss * 4:\n",
    "            break\n",
    "        best_loss = min(best_loss, loss.item())\n",
    "    losses = smooth_losses(losses)\n",
    "    _plot_losses(lrs[: len(losses)], losses)\n",
    "\n",
    "\n",
    "def single_step(model, batch):\n",
    "    pixel_values, labels = batch\n",
    "    pixel_values, labels = pixel_values.to(device), labels.to(device)\n",
    "    with t.autocast(device_type=device):\n",
    "        logits = model(pixel_values)\n",
    "        loss = t.nn.functional.cross_entropy(logits, labels)\n",
    "\n",
    "    if labels.ndim != 1:  # mixup/cutmix\n",
    "        labels = labels.argmax(dim=-1)\n",
    "\n",
    "    accuracy = (logits.argmax(dim=-1) == labels).float().mean()\n",
    "    return loss, accuracy\n",
    "\n",
    "\n",
    "lr_sweep(vit, t.optim.AdamW, dl, single_step, steps=100)"
   ]
  }
 ],
 "metadata": {
  "kernelspec": {
   "display_name": ".venv",
   "language": "python",
   "name": "python3"
  },
  "language_info": {
   "codemirror_mode": {
    "name": "ipython",
    "version": 3
   },
   "file_extension": ".py",
   "mimetype": "text/x-python",
   "name": "python",
   "nbconvert_exporter": "python",
   "pygments_lexer": "ipython3",
   "version": "3.12.7"
  }
 },
 "nbformat": 4,
 "nbformat_minor": 2
}
